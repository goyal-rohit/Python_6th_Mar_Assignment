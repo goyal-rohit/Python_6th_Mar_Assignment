{
 "cells": [
  {
   "cell_type": "markdown",
   "id": "ad2869e5-78b0-4ff2-b953-6da1693529e8",
   "metadata": {},
   "source": [
    "#### Q1. What is Statistics?"
   ]
  },
  {
   "cell_type": "markdown",
   "id": "bde06d5d-13a5-4a9e-9990-06ef04af7233",
   "metadata": {},
   "source": [
    "Statistics is the science of collecting, organzing and analyzing the data.\n",
    "It provides methods for designing experiments, surveys, and observational studies to gather data, and tools for summarizing and analyzing that data to make inferences and draw conclusions about populations or phenomena of interest."
   ]
  },
  {
   "cell_type": "markdown",
   "id": "a314cbd4-9284-4516-a82d-9ad8edfb52cc",
   "metadata": {},
   "source": [
    "#### Q2. Define the different types of statistics and give an example of when each type might be used."
   ]
  },
  {
   "cell_type": "markdown",
   "id": "8db148a8-2c6c-4ff0-bb75-4bc7e0f59a09",
   "metadata": {},
   "source": [
    "There are two types of Statistics\n",
    "1. Descriptive Statistics\n",
    "2. Infrential Statistics"
   ]
  },
  {
   "cell_type": "markdown",
   "id": "bd72aa89-8fc4-46b3-b769-1fd935c87703",
   "metadata": {},
   "source": [
    "1. Descriptive Statistics : Descriptive statistics involve summarizing and describing the characteristics of a set of data. This includes measures of central tendency (such as mean, median, and mode) and measures of dispersion (such as range, variance, and standard deviation). Descriptive statistics are used to describe and summarize data sets, and are useful for understanding the distribution of a variable.\n",
    "\n",
    "    Example: A company collects data on the salaries of its employees. They use descriptive statistics to calculate the average salary, the range of salaries, and the standard deviation to understand the distribution of salaries in the company."
   ]
  },
  {
   "cell_type": "markdown",
   "id": "c3e80b12-c94a-41c7-9507-d37aae667288",
   "metadata": {},
   "source": [
    "2. Inferential statistics: Inferential statistics involve using sample data to make inferences or predictions about a larger population. This involves hypothesis testing and estimation, which use probability theory to determine the likelihood of certain outcomes. Inferential statistics are used to make predictions and draw conclusions about a population based on a sample.\n",
    "\n",
    "    Example: A researcher conducts a study on the effect of a new drug on a particular disease. They collect data from a sample of patients and use inferential statistics to determine if the drug is effective at reducing symptoms in the larger population of patients with the disease."
   ]
  },
  {
   "cell_type": "markdown",
   "id": "69d8da86-a6b0-4983-83c5-28130b1d3b36",
   "metadata": {},
   "source": [
    "#### Q3. What are the different types of data and how do they differ from each other? Provide an example of each type of data."
   ]
  },
  {
   "cell_type": "markdown",
   "id": "7b665d44-5ab2-4c1a-8fd1-a2a697aed89a",
   "metadata": {},
   "source": [
    "There are primarily two types of Data:\n",
    "1. Qualitative Data\n",
    "2. Quantitative Data"
   ]
  },
  {
   "cell_type": "markdown",
   "id": "7dc48923-f2dd-4f26-88cc-58144f883ca0",
   "metadata": {},
   "source": [
    "    Qualitative data: Qualitative data is descriptive data that is not numerical in nature. It is often based on observations, interviews, or surveys, and is used to capture non-numerical characteristics or attributes of a phenomenon. Examples of qualitative data include words, images, and video.\n",
    "Example: A researcher conducts a study on the attitudes of high school students towards online learning. They conduct interviews with a sample of students and record their responses. The data collected from the interviews is qualitative data because it is non-numerical in nature.\n",
    "\n",
    "    Quantitative data: Quantitative data is numerical data that can be measured or counted. It is often based on experiments, surveys, or observations, and is used to capture numerical characteristics or attributes of a phenomenon. Examples of quantitative data include height, weight, and income.\n",
    "Example: A company collects data on the number of products sold each day for a particular item. The data is quantitative because it is numerical in nature and can be counted."
   ]
  },
  {
   "cell_type": "markdown",
   "id": "dbe8a61b-36dc-4852-81f9-9c6c793dd4e4",
   "metadata": {},
   "source": [
    "#### Q4. Categorise the following datasets with respect to quantitative and qualitative data types:\n",
    "    (i) Grading in exam: A+, A, B+, B, C+, C, D, E\n",
    "    (ii) Colour of mangoes: yellow, green, orange, red\n",
    "    (iii) Height data of a class: [178.9, 179, 179.5, 176, 177.2, 178.3, 175.8,...]\n",
    "    (iv) Number of mangoes exported by a farm: [500, 600, 478, 672, ...]"
   ]
  },
  {
   "cell_type": "markdown",
   "id": "f61ed7ae-f901-49e8-b294-8847857cb5e2",
   "metadata": {},
   "source": [
    "    (i) Data type: Qualitative, specifically ordinal data.\n",
    "    (ii) Data type: Qualitative, specifically nominal data.\n",
    "    (iii) Data type: Quantitative, specifically continuous data.\n",
    "    (iv) Data type: Quantitative, specifically descrete data."
   ]
  },
  {
   "cell_type": "markdown",
   "id": "5c98d134-9809-4619-914b-bbef8116f00e",
   "metadata": {
    "tags": []
   },
   "source": [
    "#### Q5. Explain the concept of levels of measurement and give an example of a variable for each level."
   ]
  },
  {
   "cell_type": "markdown",
   "id": "fa788f0e-7fbf-4cbd-b6ee-8cd7ba1bdb31",
   "metadata": {},
   "source": [
    "The levels of measurement, also known as scales of measurement, are ways of categorizing different types of data based on the characteristics of the data. The four levels of measurement are:\n",
    "1. Nominal: The nominal level of measurement is the lowest level of measurement, and it involves assigning categories to data. Nominal data can only be named or labeled, and there is no inherent order or hierarchy to the categories. Examples of nominal variables include gender, marital status, and favorite color.\n",
    "2. Ordinal: The ordinal level of measurement involves categorizing data into ordered or ranked categories. Unlike nominal data, ordinal data can be arranged in a meaningful order, but the differences between categories are not necessarily equal. Examples of ordinal variables include rankings, letter grades, and levels of education (e.g., high school, college, graduate school).\n",
    "3. Interval: The interval level of measurement involves measuring the distance between data points on a numerical scale, with equal distances between adjacent points. However, there is no true zero point or starting point for the scale. Examples of interval variables include temperature measured in Celsius or Fahrenheit, or dates measured on a calendar.\n",
    "4. Ratio: The ratio level of measurement is the highest level of measurement, and it involves measuring data on a numerical scale with equal distances between adjacent points and a true zero point. This means that ratios between data points are meaningful. Examples of ratio variables include height, weight, time, and distance."
   ]
  },
  {
   "cell_type": "markdown",
   "id": "d3ea4767-e761-4b2b-82ad-462a459fc7cd",
   "metadata": {},
   "source": [
    "#### Q6. Why is it important to understand the level of measurement when analyzing data? Provide an example to illustrate your answer."
   ]
  },
  {
   "cell_type": "markdown",
   "id": "2a94cfe2-7057-402c-9d5f-c5b8af949709",
   "metadata": {},
   "source": [
    "Understanding the level of measurement is important when analyzing data because it determines the types of statistical analyses and methods that are appropriate to use. Different levels of measurement have different properties and limitations, and they require different types of statistical techniques for accurate analysis.\n",
    "\n",
    "    Example: if a researcher wants to calculate the mean of a variable, they need to understand whether the variable is measured on an interval or ratio scale, because the mean can only be calculated for interval or ratio data. If the variable is measured on an ordinal or nominal scale, the researcher may need to use alternative measures like mode or median instead of mean."
   ]
  },
  {
   "cell_type": "markdown",
   "id": "3087a241-5bd0-4857-b23f-ac25af2bc5ca",
   "metadata": {},
   "source": [
    "#### Q7. How nominal data type is different from ordinal data type."
   ]
  },
  {
   "cell_type": "markdown",
   "id": "508fa6a4-d6e7-468d-9023-8f385f106f4b",
   "metadata": {},
   "source": [
    "Nominal and ordinal data are two different levels of measurement for categorical data.\n",
    "\n",
    "    Nominal data is the lowest level of measurement and is used for variables that have categories or labels that cannot be ordered or ranked. Examples of nominal variables include gender, race, religion, and favorite color. In nominal data, the categories are mutually exclusive, and each observation can only belong to one category. However, there is no inherent order or hierarchy to the categories.\n",
    "\n",
    "    On the other hand, ordinal data is used for variables that have categories that can be ordered or ranked, but where the difference between categories is not necessarily equal. Examples of ordinal variables include grades (A, B, C, D, F), levels of education (elementary, middle, high school), and customer satisfaction ratings (very satisfied, satisfied, neutral, dissatisfied, very dissatisfied). In ordinal data, the categories have a natural order or hierarchy, and the difference between the categories is not equal."
   ]
  },
  {
   "cell_type": "markdown",
   "id": "cc330805-8546-48f5-a087-7cbf7c01104f",
   "metadata": {},
   "source": [
    "#### Q8. Which type of plot can be used to display data in terms of range?"
   ]
  },
  {
   "cell_type": "markdown",
   "id": "a8cca7d8-ab9b-4fb8-85e5-9bebc2d4fa60",
   "metadata": {},
   "source": [
    "A box plot, also known as a box and whisker plot, can be used to display data in terms of range.\n",
    "\n",
    "A box plot displays the distribution of a dataset by showing the median, quartiles, and range of the data. The box represents the interquartile range (IQR), which is the range of the middle 50% of the data. The line inside the box represents the median, and the whiskers extend to the highest and lowest values within 1.5 times the IQR. Any data points beyond the whiskers are shown as individual points and are considered outliers.\n",
    "\n",
    "Using a box plot to display data in terms of range allows for a visual representation of the spread and distribution of the data, as well as any outliers. This is useful for comparing the ranges of multiple datasets and identifying any unusual or extreme values."
   ]
  },
  {
   "cell_type": "markdown",
   "id": "19c901d4-09fc-4040-a018-11f7dae8062b",
   "metadata": {},
   "source": [
    "#### Q9. Describe the difference between descriptive and inferential statistics. Give an example of each type of statistics and explain how they are used."
   ]
  },
  {
   "cell_type": "markdown",
   "id": "3fc4c4b8-d47c-4c34-b488-3c060e499e5a",
   "metadata": {},
   "source": [
    "1. Descriptive Statistics : Descriptive statistics involve summarizing and describing the characteristics of a set of data. This includes measures of central tendency (such as mean, median, and mode) and measures of dispersion (such as range, variance, and standard deviation). Descriptive statistics are used to describe and summarize data sets, and are useful for understanding the distribution of a variable.\n",
    "\n",
    "    Example: A company collects data on the salaries of its employees. They use descriptive statistics to calculate the average salary, the range of salaries, and the standard deviation to understand the distribution of salaries in the company."
   ]
  },
  {
   "cell_type": "markdown",
   "id": "39c34260-a2ad-497b-b76e-c17960990268",
   "metadata": {},
   "source": [
    "2. Inferential statistics: Inferential statistics involve using sample data to make inferences or predictions about a larger population. This involves hypothesis testing and estimation, which use probability theory to determine the likelihood of certain outcomes. Inferential statistics are used to make predictions and draw conclusions about a population based on a sample.\n",
    "\n",
    "    Example: A researcher conducts a study on the effect of a new drug on a particular disease. They collect data from a sample of patients and use inferential statistics to determine if the drug is effective at reducing symptoms in the larger population of patients with the disease."
   ]
  },
  {
   "cell_type": "markdown",
   "id": "80878a56-6365-4fc4-bba0-18169efaa19e",
   "metadata": {
    "tags": []
   },
   "source": [
    "#### Q10. What are some common measures of central tendency and variability used in statistics? Explain how each measure can be used to describe a dataset."
   ]
  },
  {
   "cell_type": "markdown",
   "id": "e2cf82b9-68c1-42b0-a279-262bc8007bec",
   "metadata": {},
   "source": [
    "    Measures of central tendency include the mean, median, and mode. The mean is the arithmetic average of all the data points in a dataset and is commonly used to represent the typical or average value of a dataset. The median is the middle value in a dataset, such that half of the values are above it and half are below it. The median is less affected by outliers than the mean and is commonly used when the dataset is skewed or has extreme values. The mode is the value that occurs most frequently in a dataset and is useful for identifying the most common or typical value in a dataset.\n",
    "\n",
    "    Measures of variability include the range, variance, and standard deviation. The range is the difference between the largest and smallest values in a dataset and gives an indication of the spread of the data. The variance is the average squared deviation from the mean and is a measure of how much the data varies from the mean. The standard deviation is the square root of the variance and is commonly used to describe the spread of the data relative to the mean."
   ]
  },
  {
   "cell_type": "markdown",
   "id": "b4386899-361a-4414-a657-43a2858264ea",
   "metadata": {},
   "source": [
    "Each measure of central tendency and variability can provide different insights into the distribution of a dataset. For example, the mean can provide a measure of the typical value in a dataset, while the standard deviation can provide a measure of the spread of the data around the mean. The median can be used to describe the central value of a skewed dataset, while the range can provide an indication of the variability of the data. Researchers often use multiple measures of central tendency and variability to gain a more comprehensive understanding of a dataset."
   ]
  },
  {
   "cell_type": "code",
   "execution_count": null,
   "id": "fc74d12e-2fe4-4ea3-92c9-5ed664b5a978",
   "metadata": {},
   "outputs": [],
   "source": []
  }
 ],
 "metadata": {
  "kernelspec": {
   "display_name": "Python 3 (ipykernel)",
   "language": "python",
   "name": "python3"
  },
  "language_info": {
   "codemirror_mode": {
    "name": "ipython",
    "version": 3
   },
   "file_extension": ".py",
   "mimetype": "text/x-python",
   "name": "python",
   "nbconvert_exporter": "python",
   "pygments_lexer": "ipython3",
   "version": "3.10.9"
  }
 },
 "nbformat": 4,
 "nbformat_minor": 5
}
